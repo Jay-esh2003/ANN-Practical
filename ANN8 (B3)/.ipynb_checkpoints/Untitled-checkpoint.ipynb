{
 "cells": [
  {
   "cell_type": "code",
   "execution_count": 1,
   "id": "fd209ebd-c76e-4be6-8fad-b7e327cf80dd",
   "metadata": {},
   "outputs": [
    {
     "name": "stdout",
     "output_type": "stream",
     "text": [
      "Final hidden weights:  [0.70060477 0.82942554] [0.03942778 0.36494641]\n",
      "Final hidden bias:  [0.82065792 0.71460456]\n",
      "Final output weights:  [0.74188702] [0.41182928]\n",
      "Final output bias:  [0.79027123]\n",
      "\n",
      "Output from neural network after training:  [0.83295438]\n"
     ]
    }
   ],
   "source": [
    "# Title: Implement Artificial Neural Network training process in Python\n",
    "# Using Forward Propagation and Back Propagation (inspired by Sivanandam's example)\n",
    "\n",
    "import numpy as np\n",
    "\n",
    "# Define the sigmoid activation function and its derivative\n",
    "def sigmoid(x):\n",
    "    return 1 / (1 + np.exp(-x))\n",
    "\n",
    "def sigmoid_derivative(x):\n",
    "    return x * (1 - x)\n",
    "\n",
    "# Input and expected output (example)\n",
    "inputs = np.array([[0, 1]])  # Reshaped to 2D for dot product compatibility\n",
    "expected_output = np.array([[1]])\n",
    "\n",
    "# Hyperparameters\n",
    "epochs = 5\n",
    "lr = 0.25\n",
    "inputLayerNeurons, hiddenLayerNeurons, outputLayerNeurons = 2, 2, 1\n",
    "\n",
    "# Weight and bias initialization\n",
    "hidden_weights = np.random.uniform(size=(inputLayerNeurons, hiddenLayerNeurons))\n",
    "hidden_bias = np.random.uniform(size=(1, hiddenLayerNeurons))\n",
    "output_weights = np.random.uniform(size=(hiddenLayerNeurons, outputLayerNeurons))\n",
    "output_bias = np.random.uniform(size=(1, outputLayerNeurons))\n",
    "\n",
    "# Training process\n",
    "for _ in range(epochs):\n",
    "    # Forward Propagation\n",
    "    hidden_layer_input = np.dot(inputs, hidden_weights) + hidden_bias\n",
    "    hidden_layer_output = sigmoid(hidden_layer_input)\n",
    "\n",
    "    output_layer_input = np.dot(hidden_layer_output, output_weights) + output_bias\n",
    "    predicted_output = sigmoid(output_layer_input)\n",
    "\n",
    "    # Backpropagation\n",
    "    error = expected_output - predicted_output\n",
    "    d_predicted_output = error * sigmoid_derivative(predicted_output)\n",
    "\n",
    "    error_hidden_layer = d_predicted_output.dot(output_weights.T)\n",
    "    d_hidden_layer = error_hidden_layer * sigmoid_derivative(hidden_layer_output)\n",
    "\n",
    "    # Updating Weights and Biases\n",
    "    output_weights += hidden_layer_output.T.dot(d_predicted_output) * lr\n",
    "    output_bias += np.sum(d_predicted_output, axis=0, keepdims=True) * lr\n",
    "    hidden_weights += inputs.T.dot(d_hidden_layer) * lr\n",
    "    hidden_bias += np.sum(d_hidden_layer, axis=0, keepdims=True) * lr\n",
    "\n",
    "# Final results\n",
    "print(\"Final hidden weights: \", *hidden_weights)\n",
    "print(\"Final hidden bias: \", *hidden_bias)\n",
    "print(\"Final output weights: \", *output_weights)\n",
    "print(\"Final output bias: \", *output_bias)\n",
    "print(\"\\nOutput from neural network after training: \", *predicted_output)\n"
   ]
  },
  {
   "cell_type": "code",
   "execution_count": null,
   "id": "3b01f750-d0b2-4da4-a1a2-c1bf8dff906d",
   "metadata": {},
   "outputs": [],
   "source": []
  }
 ],
 "metadata": {
  "kernelspec": {
   "display_name": "Python 3 (ipykernel)",
   "language": "python",
   "name": "python3"
  },
  "language_info": {
   "codemirror_mode": {
    "name": "ipython",
    "version": 3
   },
   "file_extension": ".py",
   "mimetype": "text/x-python",
   "name": "python",
   "nbconvert_exporter": "python",
   "pygments_lexer": "ipython3",
   "version": "3.12.7"
  }
 },
 "nbformat": 4,
 "nbformat_minor": 5
}
