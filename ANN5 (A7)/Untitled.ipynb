{
 "cells": [
  {
   "cell_type": "code",
   "execution_count": 1,
   "id": "9fe0a1ac-780b-4e31-8959-6dc91fc1c08e",
   "metadata": {},
   "outputs": [
    {
     "name": "stdout",
     "output_type": "stream",
     "text": [
      "Final hidden weights:\n",
      " [[ 2.37790164 -3.72353581]\n",
      " [-1.15226608  4.75879798]]\n",
      "Final hidden bias:\n",
      " [[-0.66021436  1.30941062]]\n",
      "Final output weights:\n",
      " [[ 3.62894245]\n",
      " [-7.27917932]]\n",
      "Final output bias:\n",
      " [[0.72350228]]\n",
      "\n",
      "Output from neural network after 10,000 epochs:\n",
      " [[0.02249278]\n",
      " [0.00240094]\n",
      " [0.96092892]\n",
      " [0.02647981]]\n"
     ]
    }
   ],
   "source": [
    "# Title: Implement Artificial Neural Network training process in Python\n",
    "\n",
    "import numpy as np\n",
    "\n",
    "# Define the sigmoid activation function and its derivative\n",
    "def sigmoid(x):\n",
    "    return 1 / (1 + np.exp(-x))\n",
    "\n",
    "def sigmoid_derivative(x):\n",
    "    return x * (1 - x)\n",
    "\n",
    "# Input dataset for AND-NOT function\n",
    "# A AND (NOT B): [0,0]->0, [0,1]->0, [1,0]->1, [1,1]->0\n",
    "inputs = np.array([[0, 0],\n",
    "                   [0, 1],\n",
    "                   [1, 0],\n",
    "                   [1, 1]])\n",
    "\n",
    "expected_output = np.array([[0],\n",
    "                            [0],\n",
    "                            [1],\n",
    "                            [0]])\n",
    "\n",
    "# Set parameters\n",
    "epochs = 10000\n",
    "lr = 0.1\n",
    "inputLayerNeurons = 2\n",
    "hiddenLayerNeurons = 2\n",
    "outputLayerNeurons = 1\n",
    "\n",
    "# Initialize weights and biases with random values\n",
    "hidden_weights = np.random.uniform(size=(inputLayerNeurons, hiddenLayerNeurons))\n",
    "hidden_bias = np.random.uniform(size=(1, hiddenLayerNeurons))\n",
    "output_weights = np.random.uniform(size=(hiddenLayerNeurons, outputLayerNeurons))\n",
    "output_bias = np.random.uniform(size=(1, outputLayerNeurons))\n",
    "\n",
    "# Training process\n",
    "for _ in range(epochs):\n",
    "    # Forward Propagation\n",
    "    hidden_layer_activation = np.dot(inputs, hidden_weights) + hidden_bias\n",
    "    hidden_layer_output = sigmoid(hidden_layer_activation)\n",
    "\n",
    "    output_layer_activation = np.dot(hidden_layer_output, output_weights) + output_bias\n",
    "    predicted_output = sigmoid(output_layer_activation)\n",
    "\n",
    "    # Backpropagation\n",
    "    error = expected_output - predicted_output\n",
    "    d_predicted_output = error * sigmoid_derivative(predicted_output)\n",
    "\n",
    "    error_hidden_layer = d_predicted_output.dot(output_weights.T)\n",
    "    d_hidden_layer = error_hidden_layer * sigmoid_derivative(hidden_layer_output)\n",
    "\n",
    "    # Updating Weights and Biases\n",
    "    output_weights += hidden_layer_output.T.dot(d_predicted_output) * lr\n",
    "    output_bias += np.sum(d_predicted_output, axis=0, keepdims=True) * lr\n",
    "    hidden_weights += inputs.T.dot(d_hidden_layer) * lr\n",
    "    hidden_bias += np.sum(d_hidden_layer, axis=0, keepdims=True) * lr\n",
    "\n",
    "# Final results\n",
    "print(\"Final hidden weights:\\n\", hidden_weights)\n",
    "print(\"Final hidden bias:\\n\", hidden_bias)\n",
    "print(\"Final output weights:\\n\", output_weights)\n",
    "print(\"Final output bias:\\n\", output_bias)\n",
    "print(\"\\nOutput from neural network after 10,000 epochs:\\n\", predicted_output)\n"
   ]
  },
  {
   "cell_type": "code",
   "execution_count": null,
   "id": "0d03ae6b-fdf1-40ef-bc4e-9b69ee41d577",
   "metadata": {},
   "outputs": [],
   "source": []
  }
 ],
 "metadata": {
  "kernelspec": {
   "display_name": "Python 3 (ipykernel)",
   "language": "python",
   "name": "python3"
  },
  "language_info": {
   "codemirror_mode": {
    "name": "ipython",
    "version": 3
   },
   "file_extension": ".py",
   "mimetype": "text/x-python",
   "name": "python",
   "nbconvert_exporter": "python",
   "pygments_lexer": "ipython3",
   "version": "3.12.7"
  }
 },
 "nbformat": 4,
 "nbformat_minor": 5
}
