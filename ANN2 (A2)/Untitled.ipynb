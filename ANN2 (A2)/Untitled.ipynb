{
 "cells": [
  {
   "cell_type": "code",
   "execution_count": 10,
   "id": "a721550c-7cf6-43cf-9329-c44ba6f862ed",
   "metadata": {},
   "outputs": [
    {
     "name": "stdout",
     "output_type": "stream",
     "text": [
      "ANDNOT(0, 0) = 0\n",
      "ANDNOT(0, 1) = 0\n",
      "ANDNOT(1, 0) = 1\n",
      "ANDNOT(1, 1) = 0\n"
     ]
    }
   ],
   "source": [
    "import numpy as np\n",
    "def andnot_neuron(x1, x2):\n",
    " # Weights for the inputs\n",
    "  w1 = 1\n",
    "  w2 = -1\n",
    "  # Bias (threshold)\n",
    "  threshold = -0.5\n",
    "  # Weighted sum of inputs\n",
    "  weighted_sum = (w1 * x1) + (w2 * x2) + threshold\n",
    "  # Activation function (step function)\n",
    "  if weighted_sum >= 0:\n",
    "    return 1\n",
    "  else:\n",
    "    return 0\n",
    "      \n",
    " # Test cases\n",
    "print(f\"ANDNOT(0, 0) = {andnot_neuron(0, 0)}\")  \n",
    "print(f\"ANDNOT(0, 1) = {andnot_neuron(0, 1)}\")  \n",
    "print(f\"ANDNOT(1, 0) = {andnot_neuron(1, 0)}\")  \n",
    "print(f\"ANDNOT(1, 1) = {andnot_neuron(1, 1)}\")  "
   ]
  },
  {
   "cell_type": "code",
   "execution_count": null,
   "id": "67306acc-5232-4293-a7cb-3d36879bfc93",
   "metadata": {},
   "outputs": [],
   "source": []
  }
 ],
 "metadata": {
  "kernelspec": {
   "display_name": "Python 3 (ipykernel)",
   "language": "python",
   "name": "python3"
  },
  "language_info": {
   "codemirror_mode": {
    "name": "ipython",
    "version": 3
   },
   "file_extension": ".py",
   "mimetype": "text/x-python",
   "name": "python",
   "nbconvert_exporter": "python",
   "pygments_lexer": "ipython3",
   "version": "3.12.7"
  }
 },
 "nbformat": 4,
 "nbformat_minor": 5
}
