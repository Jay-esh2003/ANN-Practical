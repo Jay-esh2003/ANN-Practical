{
 "cells": [
  {
   "cell_type": "code",
   "execution_count": 1,
   "id": "4cd100e5-0b02-4b4b-ad07-cad9b10158bc",
   "metadata": {},
   "outputs": [
    {
     "name": "stdout",
     "output_type": "stream",
     "text": [
      "Number: 0  ASCII: [1, 1, 1, 0, 1, 1, 1]  Prediction: Even\n",
      "Number: 1  ASCII: [0, 0, 1, 0, 0, 1, 0]  Prediction: Odd\n",
      "Number: 2  ASCII: [1, 0, 1, 1, 1, 0, 1]  Prediction: Even\n",
      "Number: 3  ASCII: [1, 0, 1, 1, 0, 1, 1]  Prediction: Odd\n",
      "Number: 4  ASCII: [0, 1, 1, 1, 0, 1, 0]  Prediction: Even\n",
      "Number: 5  ASCII: [1, 1, 0, 1, 0, 1, 1]  Prediction: Odd\n",
      "Number: 6  ASCII: [1, 1, 0, 1, 1, 1, 1]  Prediction: Even\n",
      "Number: 7  ASCII: [1, 0, 1, 0, 0, 1, 0]  Prediction: Odd\n",
      "Number: 8  ASCII: [1, 1, 1, 1, 1, 1, 1]  Prediction: Even\n",
      "Number: 9  ASCII: [1, 1, 1, 1, 0, 1, 1]  Prediction: Odd\n"
     ]
    }
   ],
   "source": [
    "import numpy as np\n",
    "\n",
    "# ASCII representations of digits 0-9 (7-segment display style)\n",
    "digits = {\n",
    "    '0': [1, 1, 1, 0, 1, 1, 1],\n",
    "    '1': [0, 0, 1, 0, 0, 1, 0],\n",
    "    '2': [1, 0, 1, 1, 1, 0, 1],\n",
    "    '3': [1, 0, 1, 1, 0, 1, 1],\n",
    "    '4': [0, 1, 1, 1, 0, 1, 0],\n",
    "    '5': [1, 1, 0, 1, 0, 1, 1],\n",
    "    '6': [1, 1, 0, 1, 1, 1, 1],\n",
    "    '7': [1, 0, 1, 0, 0, 1, 0],\n",
    "    '8': [1, 1, 1, 1, 1, 1, 1],\n",
    "    '9': [1, 1, 1, 1, 0, 1, 1],\n",
    "}\n",
    "\n",
    "# Training data\n",
    "X = np.array([digits[str(i)] for i in range(10)])\n",
    "y = np.array([i % 2 for i in range(10)])  # 0 for even, 1 for odd\n",
    "\n",
    "# Perceptron class\n",
    "class Perceptron:\n",
    "    def __init__(self, learning_rate=0.1, n_iters=1000):\n",
    "        self.lr = learning_rate\n",
    "        self.n_iters = n_iters\n",
    "        self.activation_func = self._unit_step_func\n",
    "        self.weights = None\n",
    "        self.bias = None\n",
    "\n",
    "    def fit(self, X, y):\n",
    "        n_samples, n_features = X.shape\n",
    "        self.weights = np.zeros(n_features)\n",
    "        self.bias = 0\n",
    "        for _ in range(self.n_iters):\n",
    "            for idx, x_i in enumerate(X):\n",
    "                linear_output = np.dot(x_i, self.weights) + self.bias\n",
    "                y_predicted = self.activation_func(linear_output)\n",
    "                update = self.lr * (y[idx] - y_predicted)\n",
    "                self.weights += update * x_i\n",
    "                self.bias += update\n",
    "\n",
    "    def predict(self, X):\n",
    "        linear_output = np.dot(X, self.weights) + self.bias\n",
    "        return self.activation_func(linear_output)\n",
    "\n",
    "    def _unit_step_func(self, x):\n",
    "        return np.where(x >= 0, 1, 0)\n",
    "\n",
    "# Train the perceptron\n",
    "perceptron = Perceptron()\n",
    "perceptron.fit(X, y)\n",
    "\n",
    "# Test on all digits\n",
    "for i in range(10):\n",
    "    x_input = np.array([digits[str(i)]])\n",
    "    prediction = perceptron.predict(x_input)[0]\n",
    "    print(f\"Number: {i}  ASCII: {digits[str(i)]}  Prediction: {'Even' if prediction == 0 else 'Odd'}\")\n"
   ]
  },
  {
   "cell_type": "code",
   "execution_count": null,
   "id": "8ae3b230-3700-4688-bbc6-6fc050d9b8cd",
   "metadata": {},
   "outputs": [],
   "source": []
  }
 ],
 "metadata": {
  "kernelspec": {
   "display_name": "Python 3 (ipykernel)",
   "language": "python",
   "name": "python3"
  },
  "language_info": {
   "codemirror_mode": {
    "name": "ipython",
    "version": 3
   },
   "file_extension": ".py",
   "mimetype": "text/x-python",
   "name": "python",
   "nbconvert_exporter": "python",
   "pygments_lexer": "ipython3",
   "version": "3.12.7"
  }
 },
 "nbformat": 4,
 "nbformat_minor": 5
}
